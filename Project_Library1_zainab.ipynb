{
  "nbformat": 4,
  "nbformat_minor": 0,
  "metadata": {
    "colab": {
      "provenance": []
    },
    "kernelspec": {
      "name": "python3",
      "display_name": "Python 3"
    },
    "language_info": {
      "name": "python"
    }
  },
  "cells": [
    {
      "cell_type": "code",
      "execution_count": 67,
      "metadata": {
        "id": "3QuouS-Kp7He"
      },
      "outputs": [],
      "source": [
        "class Book():\n",
        "    __title = \"t\"\n",
        "    __author = \"a\"\n",
        "    __publication_year = 0\n",
        "    __genre = \"g\"\n",
        "\n",
        "    def __init__(self,title,author,publication_year,genre):\n",
        "        self.__title = title\n",
        "        self.__author = author\n",
        "\n",
        "        if  publication_year < 1:\n",
        "              print('Publication year cannot be negative, Please try again!')\n",
        "        else:\n",
        "              self.__publication_year = publication_year\n",
        "        self.__genre = genre\n",
        "\n",
        "    def getTitle(self):\n",
        "        return self.__title\n",
        "\n",
        "    def getAuthor(self):\n",
        "        return self.__author\n",
        "\n",
        "    def getPublication_year(self):\n",
        "        return self.__publication_year\n",
        "\n",
        "    def getGenre(self):\n",
        "        return self.__genre\n",
        "\n",
        "    def display_book_details(self):\n",
        "        r = 'The title of the book: ' + self.__title , ', The author of the book: ' + self.__author , ', The publication year of the book: ' + str(self.__publication_year) + ', The genre of the book: ' + self.__genre + '\\n'\n",
        "        r = \"\".join(r)\n",
        "        return r"
      ]
    },
    {
      "cell_type": "code",
      "source": [
        "\n",
        "class Library(Book):\n",
        "\n",
        "    def __init__(self):\n",
        "        self.__books = []\n",
        "\n",
        "    def Add_book(self,book):\n",
        "        self.__books.append(book)\n",
        "\n",
        "    def remove_book(self,title):\n",
        "      for i in self.__books:\n",
        "        if i.getTitle() == title:\n",
        "            self.__books.remove(i)\n",
        "            break\n",
        "      else:\n",
        "        print('Book title is incorrect')\n",
        "\n",
        "    def search_by_title(self,title):\n",
        "            for i in self.__books:\n",
        "                if i.getTitle() == title:\n",
        "                    print('Book is found.')\n",
        "                    print(i.display_book_details())\n",
        "                    break\n",
        "            else:\n",
        "                print('Book title is incorrect')\n",
        "\n",
        "\n",
        "    def search_by_author(self,author):\n",
        "        for i in self.__books:\n",
        "                if i.getAuthor() == author:\n",
        "                    print('Book is found.')\n",
        "                    print(i.display_book_details())\n",
        "                    break\n",
        "        else:\n",
        "                print('Book author name is incorrect')\n",
        "\n",
        "    def save_in_library(self):\n",
        "        lib = \"\"\n",
        "        for i in self.__books:\n",
        "          lib = lib+i.display_book_details()\n",
        "\n",
        "        director = input('Please enter your text file director name to save into: ')\n",
        "        f = open(director,'w') # \"/content/drive/MyDrive/text\"\n",
        "        f.write(str(lib))\n",
        "        f.close()\n",
        "\n",
        "\n",
        "    def display_library(self):\n",
        "      try:\n",
        "\n",
        "        director = input('Please enter your text file director to access from: ')\n",
        "        f = open(director,'r')\n",
        "        print('The library details:')\n",
        "        print(f.read())\n",
        "        print()\n",
        "        f.close()\n",
        "\n",
        "      except:\n",
        "        print('directory name is wrong.')\n"
      ],
      "metadata": {
        "id": "7blaXQKl0vIu"
      },
      "execution_count": 73,
      "outputs": []
    },
    {
      "cell_type": "code",
      "source": [
        "\n",
        "lib1 = Library()\n",
        "\n",
        "number_of_books = int(input('Please enter the number of books in the library: '))\n",
        "index_of_instance = 1\n",
        "\n",
        "for i in range(number_of_books):\n",
        "\n",
        "  title = input(f\"Please enter the book{index_of_instance} title: \")\n",
        "  author = input (f\"Please enter the book{index_of_instance} author: \")\n",
        "\n",
        "  try:\n",
        "      pub_year = int(input (f\"Please enter the book{index_of_instance} publication year: \"))\n",
        "  except:\n",
        "      print('Puclication year should be integer.')\n",
        "\n",
        "  genre = input(f\"Please enter the book{index_of_instance} genre: \")\n",
        "  print()\n",
        "\n",
        "  lib1.Add_book(Book(title, author, pub_year, genre))\n",
        "  index_of_instance+=1\n",
        "\n",
        "remove = int(input('Do you want to remove a book? 1=yes, 2=no '))\n",
        "if remove == 1:\n",
        "  title_removed = input('Please enter the book title to be removed. ')\n",
        "  lib1.remove_book(title)\n",
        "lib1.save_in_library()\n",
        "lib1.display_library()\n",
        "\n",
        "search = int(input(\"Do you want to search for a book details by title or author? 1=title, 2=author, 3=none \"))\n",
        "if search==1:\n",
        "  title_search = input('Please enter the title to search: ')\n",
        "  lib1.search_by_title(title_search)\n",
        "\n",
        "elif search == 2:\n",
        "  author_search = input('Please enter the author to search: ')\n",
        "  lib1.search_by_author(author_search)\n",
        "else:\n",
        "  pass\n",
        "\n",
        "print('Thank you, the program has ended successfully!')\n"
      ],
      "metadata": {
        "id": "ykp3zhQ6tWDa",
        "colab": {
          "base_uri": "https://localhost:8080/"
        },
        "outputId": "a71c3b63-7865-4f98-bc3f-fd86db4e13fc"
      },
      "execution_count": 74,
      "outputs": [
        {
          "output_type": "stream",
          "name": "stdout",
          "text": [
            "Please enter the number of books in the library: 1\n",
            "Please enter the book1 title: b1\n",
            "Please enter the book1 author: a1\n",
            "Please enter the book1 publication year: 2003\n",
            "Please enter the book1 genre: g1\n",
            "\n",
            "Do you want to remove a book? 1=yes, 2=no 2\n",
            "Please enter your text file director name to save into: a\n",
            "Please enter your text file director to access from: a\n",
            "The library details:\n",
            "The title of the book: b1, The author of the book: a1, The publication year of the book: 2003, The genre of the book: g1\n",
            "\n",
            "\n",
            "Do you want to search for a book details by title or author? 1=title, 2=author, 3=none 1\n",
            "Please enter the title to search: a\n",
            "Book title is incorrect\n",
            "Thank you, the program has ended successfully!\n"
          ]
        }
      ]
    },
    {
      "cell_type": "code",
      "source": [],
      "metadata": {
        "id": "TAIePLOo1ss_"
      },
      "execution_count": 54,
      "outputs": []
    },
    {
      "cell_type": "code",
      "source": [],
      "metadata": {
        "id": "BQnGRA2x2K0j"
      },
      "execution_count": 3,
      "outputs": []
    }
  ]
}