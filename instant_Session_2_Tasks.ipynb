{
 "cells": [
  {
   "cell_type": "markdown",
   "metadata": {
    "id": "N8blBjfzqU6I"
   },
   "source": [
    "# Session 2 Tasks"
   ]
  },
  {
   "cell_type": "markdown",
   "metadata": {
    "id": "10XjML4cqZa4"
   },
   "source": [
    "1. Create 3 variables to store street, city and country, now create address variable to\n",
    "store entire address. Use two ways of creating this variable, one using + operator and the other using f-string.\n",
    "Now Print the address in such a way that the street, city and country prints in a separate line\n",
    "2. Create a variable to store the string \"Earth revolves around the sun\"\n",
    "    1. Print \"revolves\" using slice operator\n",
    "    2. Print \"sun\" using negative index\n",
    "3. Create two variables to store how many fruits and vegetables you eat in a day.\n",
    "Now Print \"I eat x veggies and y fruits daily\" where x and y presents vegetables and fruits that you eat everyday. Use python f string for this.\n",
    "4. I have a string variable called s='maine 200 banana khaye'. This of course is a\n",
    "wrong statement, the correct statement is 'maine 10 samosa khaye'.\n",
    "Replace incorrect words in original strong with new ones and print the new string.\n",
    "Also try to do this in one line.\n"
   ]
  },
  {
   "cell_type": "code",
   "execution_count": 36,
   "metadata": {
    "id": "P4EUN6nuqUPf"
   },
   "outputs": [
    {
     "name": "stdout",
     "output_type": "stream",
     "text": [
      "1) Street name is: street 3\n",
      "   city name is: Nasr city\n",
      "   country name is: Egypt\n",
      "\n",
      "  Street name is: street 3\n",
      "  city name is: Nasr city\n",
      "  country name is: Egypt\n",
      "\n",
      "2) revolves\n",
      "   revolves\n",
      "\n",
      "3) I eat 3 veggies and 4 fruits daily.\n",
      "\n",
      "4) maine 200 samosa khaye\n"
     ]
    }
   ],
   "source": [
    "#1\n",
    "street = 'street 3'\n",
    "city = 'Nasr city'\n",
    "country = 'Egypt'\n",
    "address = street + city  + country\n",
    "print('1) Street name is: ' + street + '\\n   city name is: ' + city + '\\n   country name is: ' + country)\n",
    "print()\n",
    "#second way\n",
    "print(f'  Street name is: {street}')\n",
    "print(f'  city name is: {city}')\n",
    "print(f'  country name is: {country}')\n",
    "print()\n",
    "\n",
    "#2\n",
    "s = \"Earth revolves around the sun\"\n",
    "print('2) '+s[6:14])\n",
    "print('   '+ s[-23:-15])\n",
    "print()\n",
    "\n",
    "#3\n",
    "x = '3'\n",
    "y = '4'\n",
    "print(f'3) I eat {x} veggies and {y} fruits daily.\\n')\n",
    "\n",
    "#4\n",
    "s = 'maine 200 banana khaye'\n",
    "s = s[:10] +'samosa'+ s[16:]\n",
    "print('4) '+s)"
   ]
  },
  {
   "cell_type": "markdown",
   "metadata": {
    "id": "B98K3rbAqz7e"
   },
   "source": [
    "1. Let us say your expense for every month are listed below.\n",
    "\t  1. January -  2200\n",
    "    2. February - 2350\n",
    "    3. March - 2600\n",
    "    4. April - 2130\n",
    "    5. May - 2190\n",
    "\n",
    "Create a list to store these monthly expenses and using that find out,\n",
    "\n",
    "    1. In Feb, how many dollars you spent extra compare to January?\n",
    "    2. Find out your total expense in first quarter (first three months) of the year.\n",
    "    3. Find out if you spent exactly 2000 dollars in any month\n",
    "    4. June month just finished and your expense is 1980 dollar. Add this item to our monthly expense list\n",
    "    5. You returned an item that you bought in a month of April and\n",
    "    got a refund of 200$. Make a correction to your monthly expense list\n",
    "    based on this\n",
    "\n",
    "2. You have a list of your favourite marvel super heros.\n",
    "```\n",
    "heros=['spider man','thor','hulk','iron man','captain america']\n",
    "```\n",
    "\n",
    "Using this find out,\n",
    "\n",
    "    1. Length of the list\n",
    "    2. Add 'black panther' at the end of this list\n",
    "    3. You realize that you need to add 'black panther' after 'hulk',\n",
    "       so remove it from the list first and then add it after 'hulk'\n",
    "    4. Now you don't like thor and hulk because they get angry easily :)\n",
    "       So you want to remove thor and hulk from list and replace them with doctor strange (because he is cool).\n",
    "       Do that with one line of code.\n",
    "    5. Sort the heros list in alphabetical order (Hint. Use dir() functions to list down all functions available in list)\n",
    "\n",
    "\n",
    "\n",
    "\n"
   ]
  },
  {
   "cell_type": "code",
   "execution_count": 3,
   "metadata": {
    "id": "vvus0ZOlrzJS"
   },
   "outputs": [
    {
     "name": "stdout",
     "output_type": "stream",
     "text": [
      "#1\n",
      "1) Dollars I spent in feb compred to Jan: 150\n",
      "2) Total expense in the first quarter of the year: 7150\n",
      "4) No month spent exactly 2000 dollars\n",
      "4) [2200, 2350, 2600, 2130, 2190, 1980]\n",
      "5) [2200, 2350, 2600, 1930, 2190, 1980]\n",
      "\n",
      "#2\n",
      "1) Length of the list: 5\n",
      "2) ['spider man', 'thor', 'hulk', 'iron man', 'captain america', 'black panther']\n",
      "3) ['spider man', 'thor', 'hulk', 'black panther', 'iron man', 'captain america']\n",
      "4) ['spider man', 'doctor strange', 'black panther', 'iron man', 'captain america']\n",
      "5) ['black panther', 'captain america', 'doctor strange', 'iron man', 'spider man']\n"
     ]
    },
    {
     "data": {
      "text/plain": [
       "['__add__',\n",
       " '__class__',\n",
       " '__class_getitem__',\n",
       " '__contains__',\n",
       " '__delattr__',\n",
       " '__delitem__',\n",
       " '__dir__',\n",
       " '__doc__',\n",
       " '__eq__',\n",
       " '__format__',\n",
       " '__ge__',\n",
       " '__getattribute__',\n",
       " '__getitem__',\n",
       " '__getstate__',\n",
       " '__gt__',\n",
       " '__hash__',\n",
       " '__iadd__',\n",
       " '__imul__',\n",
       " '__init__',\n",
       " '__init_subclass__',\n",
       " '__iter__',\n",
       " '__le__',\n",
       " '__len__',\n",
       " '__lt__',\n",
       " '__mul__',\n",
       " '__ne__',\n",
       " '__new__',\n",
       " '__reduce__',\n",
       " '__reduce_ex__',\n",
       " '__repr__',\n",
       " '__reversed__',\n",
       " '__rmul__',\n",
       " '__setattr__',\n",
       " '__setitem__',\n",
       " '__sizeof__',\n",
       " '__str__',\n",
       " '__subclasshook__',\n",
       " 'append',\n",
       " 'clear',\n",
       " 'copy',\n",
       " 'count',\n",
       " 'extend',\n",
       " 'index',\n",
       " 'insert',\n",
       " 'pop',\n",
       " 'remove',\n",
       " 'reverse',\n",
       " 'sort']"
      ]
     },
     "execution_count": 3,
     "metadata": {},
     "output_type": "execute_result"
    }
   ],
   "source": [
    "print(\"#1\")\n",
    "# 1\n",
    "\n",
    "expense = [2200, 2350, 2600, 2130, 2190]\n",
    "#            jan   feb  mar   apr   may\n",
    "#             0     1    2     3    4\n",
    "print(\"1) Dollars I spent in feb compred to Jan:\", expense[1]-expense[0])\n",
    "\n",
    "print(\"2) Total expense in the first quarter of the year:\", expense[0]+expense[1]+expense[2])\n",
    "\n",
    "i=0\n",
    "while i<len(expense):\n",
    "    if expense[i] == 2000:\n",
    "        print(\"3) month\", i+1, \"spent exactly 2000 dollars\")\n",
    "        break\n",
    "    i+=1\n",
    "else:\n",
    "    print(\"4) No month spent exactly 2000 dollars\")\n",
    "    \n",
    "expense.append(1980)\n",
    "print(\"4)\", expense)\n",
    "\n",
    "expense[3] -= 200\n",
    "print(\"5)\", expense)\n",
    "\n",
    "print()\n",
    "\n",
    "print(\"#2\")\n",
    "# 2\n",
    "\n",
    "heros=['spider man','thor','hulk','iron man','captain america']\n",
    "print(\"1) Length of the list:\", len(heros))\n",
    "\n",
    "heros.append('black panther')\n",
    "print(\"2)\", heros)\n",
    "\n",
    "heros.remove('black panther')\n",
    "heros.insert(3, 'black panther')\n",
    "print(\"3)\", heros)\n",
    "\n",
    "hero = ['doctor strange']\n",
    "heros = heros[:1] + hero + heros [3:]\n",
    "print('4)',heros)\n",
    "\n",
    "heros.sort()\n",
    "print('5)',heros)\n",
    "\n",
    "dir(heros)"
   ]
  },
  {
   "cell_type": "markdown",
   "metadata": {
    "id": "ojrpvhohrzgJ"
   },
   "source": [
    "Write a program that prints following shape\n",
    "\n",
    "```\n",
    "    *\n",
    "   ***\n",
    "  *****\n",
    " *******\n",
    "*********\n",
    " *******\n",
    "  *****\n",
    "   ***\n",
    "    *\n",
    "```\n",
    "\n"
   ]
  },
  {
   "cell_type": "code",
   "execution_count": 5,
   "metadata": {
    "id": "Ad-hutpdsCJ6"
   },
   "outputs": [
    {
     "name": "stdout",
     "output_type": "stream",
     "text": [
      "        *\n",
      "       ***\n",
      "      *****\n",
      "     *******\n",
      "    *********\n",
      "     *******\n",
      "      *****\n",
      "       ***\n",
      "        *\n"
     ]
    }
   ],
   "source": [
    "i = 1\n",
    "n = 0\n",
    "while i <= 9:\n",
    "    if i%2!=0:\n",
    "        print(\" \" * (9-i+n) + \"*\" * i)\n",
    "        n += 1\n",
    "    i += 1\n",
    "    \n",
    "i = 1\n",
    "n = 0\n",
    "while i <= 9:\n",
    "    if i%2==0:\n",
    "        print(\" \" * (i+3-n) + \"*\" * (9-i))\n",
    "        n += 1\n",
    "    i += 1"
   ]
  },
  {
   "cell_type": "code",
   "execution_count": null,
   "metadata": {},
   "outputs": [],
   "source": []
  }
 ],
 "metadata": {
  "colab": {
   "provenance": []
  },
  "kernelspec": {
   "display_name": "Python 3 (ipykernel)",
   "language": "python",
   "name": "python3"
  },
  "language_info": {
   "codemirror_mode": {
    "name": "ipython",
    "version": 3
   },
   "file_extension": ".py",
   "mimetype": "text/x-python",
   "name": "python",
   "nbconvert_exporter": "python",
   "pygments_lexer": "ipython3",
   "version": "3.11.4"
  }
 },
 "nbformat": 4,
 "nbformat_minor": 1
}
