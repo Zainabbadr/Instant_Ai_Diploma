{
 "cells": [
  {
   "cell_type": "markdown",
   "id": "ff38aad7",
   "metadata": {},
   "source": [
    "### 1-Write a Python program that takes two numbers as user input and performs addition on them."
   ]
  },
  {
   "cell_type": "code",
   "execution_count": null,
   "id": "91696b79",
   "metadata": {},
   "outputs": [],
   "source": [
    "inp1 = int(input('Please write th first number: '))\n",
    "inp2 = int(input('Please write th second number: '))\n",
    "print('Sum of the two numbers =', inp1+inp2 )\n"
   ]
  },
  {
   "cell_type": "markdown",
   "id": "360854ff",
   "metadata": {},
   "source": [
    "### 2-Write a Python program that takes an integer as input and checks if it is even or odd. Print \"Even\" if the number is divisible by 2, otherwise print \"Odd\"."
   ]
  },
  {
   "cell_type": "code",
   "execution_count": null,
   "id": "ee4c35fe",
   "metadata": {
    "ExecuteTime": {
     "end_time": "2023-07-23T21:35:24.351946Z",
     "start_time": "2023-07-23T21:35:23.287212Z"
    }
   },
   "outputs": [],
   "source": [
    "inp = int(input('Please enter a number: '))\n",
    "if inp%2==0:\n",
    "    print('Even')\n",
    "else:\n",
    "    print('Odd')"
   ]
  },
  {
   "cell_type": "code",
   "execution_count": null,
   "id": "24616afc",
   "metadata": {},
   "outputs": [],
   "source": []
  },
  {
   "cell_type": "markdown",
   "id": "6ea0354c",
   "metadata": {},
   "source": [
    "### 3-Write a Python program that prints all the even numbers from 1 to 20 using a for loop"
   ]
  },
  {
   "cell_type": "code",
   "execution_count": null,
   "id": "df43b7f5",
   "metadata": {
    "ExecuteTime": {
     "end_time": "2023-07-23T21:36:51.373589Z",
     "start_time": "2023-07-23T21:36:51.365580Z"
    }
   },
   "outputs": [],
   "source": [
    "for i in range(21):\n",
    "    if i%2==0:\n",
    "        print(i)"
   ]
  },
  {
   "cell_type": "code",
   "execution_count": null,
   "id": "cc16a5c2",
   "metadata": {
    "ExecuteTime": {
     "end_time": "2023-07-23T22:04:21.481350Z",
     "start_time": "2023-07-23T22:04:21.452242Z"
    }
   },
   "outputs": [],
   "source": []
  },
  {
   "cell_type": "code",
   "execution_count": null,
   "id": "7b7ee5e8",
   "metadata": {},
   "outputs": [],
   "source": []
  },
  {
   "cell_type": "markdown",
   "id": "2d66bab2",
   "metadata": {},
   "source": [
    "### 4-Write a Python function that takes a string as input and counts the number of vowels (a, e, i, o, u) in the string. The function should return the count"
   ]
  },
  {
   "cell_type": "code",
   "execution_count": null,
   "id": "a37a84fd",
   "metadata": {
    "ExecuteTime": {
     "end_time": "2023-07-23T21:45:58.522044Z",
     "start_time": "2023-07-23T21:45:58.514370Z"
    }
   },
   "outputs": [],
   "source": [
    "inp = input('Please enter a word: ')\n",
    "count = 0\n",
    "i = 0\n",
    "while i<len(inp):\n",
    "    if inp[i] == 'a' or  inp[i] == 'e' or  inp[i] == 'i' or  inp[i] == 'o' or  inp[i] == 'u':\n",
    "        count+=1\n",
    "    i+=1\n",
    "print('Number of vowels =', count)"
   ]
  },
  {
   "cell_type": "code",
   "execution_count": null,
   "id": "2eb8e4de",
   "metadata": {
    "ExecuteTime": {
     "end_time": "2023-07-23T23:56:27.324204Z",
     "start_time": "2023-07-23T23:56:26.972092Z"
    }
   },
   "outputs": [],
   "source": []
  },
  {
   "cell_type": "code",
   "execution_count": null,
   "id": "24105679",
   "metadata": {
    "ExecuteTime": {
     "end_time": "2023-07-23T21:43:41.353283Z",
     "start_time": "2023-07-23T21:43:41.332496Z"
    }
   },
   "outputs": [],
   "source": []
  },
  {
   "cell_type": "markdown",
   "id": "a9a0ea06",
   "metadata": {},
   "source": [
    "### 5-Write a Python program that creates a list of numbers from 1 to 10. Use a loop to iterate over the list and print each number of power 2."
   ]
  },
  {
   "cell_type": "code",
   "execution_count": null,
   "id": "6fa658cf",
   "metadata": {
    "ExecuteTime": {
     "end_time": "2023-07-23T21:48:02.328880Z",
     "start_time": "2023-07-23T21:48:02.314313Z"
    }
   },
   "outputs": [],
   "source": [
    "n = list(range(11))\n",
    "\n",
    "for i in n:\n",
    "    print(i**2)"
   ]
  },
  {
   "cell_type": "code",
   "execution_count": null,
   "id": "f0e52d30",
   "metadata": {
    "ExecuteTime": {
     "end_time": "2023-07-15T16:20:03.747408Z",
     "start_time": "2023-07-15T16:20:03.740547Z"
    }
   },
   "outputs": [],
   "source": []
  },
  {
   "cell_type": "markdown",
   "id": "430c9df9",
   "metadata": {},
   "source": [
    "### 6-Write a Python program that calculates the average grade for a student based on their scores in different subjects. The program should include the following steps:\n",
    "\n",
    "#### 1-Create variables to store the student's name, subject names, and corresponding scores. Initialize the variables with sample data.\n",
    "\n",
    "#### 2-Prompt the user to enter the student's name and assign it to the name variable.\n",
    "\n",
    "#### 3-Use a loop to prompt the user to enter the subject names and corresponding scores. Store the subject names in a list and the scores in another list.\n",
    "\n",
    "#### 4-After collecting the scores, calculate the average grade by summing up all the scores and dividing by the total number of subjects.\n",
    "\n",
    "#### 5-Check if the average grade is above a 70, print a congratulatory message. Otherwise, print an encouragement message."
   ]
  },
  {
   "cell_type": "code",
   "execution_count": 1,
   "id": "e0254271",
   "metadata": {
    "ExecuteTime": {
     "end_time": "2023-07-15T16:16:17.066909Z",
     "start_time": "2023-07-15T16:16:07.636799Z"
    }
   },
   "outputs": [
    {
     "name": "stdout",
     "output_type": "stream",
     "text": [
      "Please enter your name: hh\n",
      "Please enter number of subjects: 2\n",
      "Please enter the subject: h\n",
      "Please enter the corresponding score: 88\n",
      "Please enter the subject: k\n",
      "Please enter the corresponding score: 77\n",
      "the entered subjects are:  ['h', 'k']\n",
      "the corresponding scores are:  [88, 77]\n",
      "The average score is:  82.5\n",
      "Congratulations! You did great.\n"
     ]
    }
   ],
   "source": [
    "name = 'A' #sample\n",
    "subj = ['Math','english','physics']\n",
    "scores = [66,77,88]\n",
    "\n",
    "name = input('Please enter your name: ')\n",
    "num = int(input('Please enter number of subjects: '))\n",
    "\n",
    "sum = 0\n",
    "subj.clear()\n",
    "scores.clear()\n",
    "\n",
    "for i in range(num) :\n",
    "    subject = input('Please enter the subject: ')\n",
    "    subj.append(subject)\n",
    "    score = int(input('Please enter the corresponding score: '))\n",
    "    scores.append(score)\n",
    "    sum += scores[i] \n",
    "\n",
    "print('the entered subjects are: ',subj)\n",
    "print('the corresponding scores are: ',scores)\n",
    "\n",
    "av_score = (sum/num)\n",
    "print('The average score is: ',av_score)\n",
    "\n",
    "if av_score>70:\n",
    "    print('Congratulations! You did great.')\n",
    "else:\n",
    "    print('Better luck next time!')"
   ]
  },
  {
   "cell_type": "code",
   "execution_count": null,
   "id": "37b3ff97",
   "metadata": {
    "ExecuteTime": {
     "end_time": "2023-07-23T21:56:24.493717Z",
     "start_time": "2023-07-23T21:56:17.227071Z"
    }
   },
   "outputs": [],
   "source": []
  },
  {
   "cell_type": "markdown",
   "id": "ae9df360",
   "metadata": {},
   "source": [
    "### 7-Find Common Elements\n",
    "### Write a Python function that takes two lists as input and returns a new list containing the common elements present in both lists."
   ]
  },
  {
   "cell_type": "code",
   "execution_count": 2,
   "id": "d030c3c0",
   "metadata": {
    "ExecuteTime": {
     "end_time": "2023-07-23T22:08:16.794474Z",
     "start_time": "2023-07-23T22:08:16.775639Z"
    }
   },
   "outputs": [
    {
     "name": "stdout",
     "output_type": "stream",
     "text": [
      "Please enter range of list 1: 3\n",
      "Please enter element in first list: 2\n",
      "Please enter element in first list: 3\n",
      "Please enter element in first list: 4\n",
      "['2', '3', '4']\n",
      "Please enter range of list 2: 2\n",
      "Please enter element in second list: 4\n",
      "Please enter element in second list: 2\n",
      "['4', '2']\n",
      "['2', '4']\n"
     ]
    }
   ],
   "source": [
    "list1 = []\n",
    "\n",
    "list2 = []\n",
    "\n",
    "list1_range = int(input('Please enter range of list 1: '))\n",
    "for i in range(list1_range):\n",
    "    inp = input('Please enter element in first list: ')\n",
    "    list1.append(inp)\n",
    "print(list1)\n",
    "\n",
    "list2_range = int(input('Please enter range of list 2: '))\n",
    "for i in range(list2_range):\n",
    "    inp = input('Please enter element in second list: ')\n",
    "    list2.append(inp)\n",
    "print(list2)\n",
    "list_common = []\n",
    "\n",
    "for i in list1:\n",
    "        if i in list2:\n",
    "            list_common.append(i)\n",
    "print(list_common)"
   ]
  },
  {
   "cell_type": "code",
   "execution_count": null,
   "id": "d91497f0",
   "metadata": {},
   "outputs": [],
   "source": []
  },
  {
   "cell_type": "code",
   "execution_count": null,
   "id": "371369cd",
   "metadata": {
    "ExecuteTime": {
     "end_time": "2023-07-23T23:56:27.326200Z",
     "start_time": "2023-07-23T23:56:27.326200Z"
    }
   },
   "outputs": [],
   "source": []
  },
  {
   "cell_type": "markdown",
   "id": "9a2f34cb",
   "metadata": {},
   "source": [
    "### 8-Write a Python function that takes a list of numbers and an element to remove from the list. "
   ]
  },
  {
   "cell_type": "code",
   "execution_count": 18,
   "id": "78de9fe8",
   "metadata": {
    "ExecuteTime": {
     "end_time": "2023-07-23T22:21:36.514592Z",
     "start_time": "2023-07-23T22:21:36.505437Z"
    }
   },
   "outputs": [
    {
     "name": "stdout",
     "output_type": "stream",
     "text": [
      "Please enter the range of list: 4\n",
      "Please enter a number: 12\n",
      "Please enter a number: 2\n",
      "Please enter a number: 4\n",
      "Please enter a number: 2\n",
      "The old list is:  [12, 2, 4, 2]\n",
      "Please enter an element to be removed: 12\n",
      "The new list is:  [2, 4, 2]\n"
     ]
    }
   ],
   "source": [
    "list1 = []\n",
    "list_range = int(input('Please enter the range of list: '))\n",
    "\n",
    "for i in range(list_range):\n",
    "    inp = int(input('Please enter a number: '))\n",
    "    list1.append(inp)\n",
    "    \n",
    "print('The old list is: ',list1)\n",
    "\n",
    "inp = int(input('Please enter an element to be removed: '))\n",
    "list1.remove(inp)\n",
    "print('The new list is: ', list1)"
   ]
  },
  {
   "cell_type": "code",
   "execution_count": null,
   "id": "d80aa813",
   "metadata": {
    "ExecuteTime": {
     "end_time": "2023-07-23T22:21:37.220121Z",
     "start_time": "2023-07-23T22:21:37.215586Z"
    }
   },
   "outputs": [],
   "source": []
  },
  {
   "cell_type": "code",
   "execution_count": null,
   "id": "3feaf264",
   "metadata": {
    "ExecuteTime": {
     "end_time": "2023-07-23T22:21:38.480436Z",
     "start_time": "2023-07-23T22:21:38.464574Z"
    }
   },
   "outputs": [],
   "source": []
  },
  {
   "cell_type": "markdown",
   "id": "f1658f3b",
   "metadata": {
    "ExecuteTime": {
     "end_time": "2023-07-23T22:18:08.230185Z",
     "start_time": "2023-07-23T22:18:08.224220Z"
    }
   },
   "source": [
    "### 9-Given 4 numbers A, B, C and D. Print the last 2 digits from their Multiplication.\n",
    "### Example :\n",
    "### the Multiplication of 4 numbers is 5 * 7 * 2 * 4 = 280 so the answer will be the last 2 digits which are 80."
   ]
  },
  {
   "cell_type": "code",
   "execution_count": 19,
   "id": "e3acbe03",
   "metadata": {
    "ExecuteTime": {
     "end_time": "2023-07-23T22:26:11.183016Z",
     "start_time": "2023-07-23T22:26:03.981069Z"
    }
   },
   "outputs": [
    {
     "name": "stdout",
     "output_type": "stream",
     "text": [
      "Please enter a digit: 23\n",
      "Please enter a digit: 3\n",
      "Please enter a digit: 23\n",
      "Please enter a digit: 2\n",
      "The multiplication value is:  3174\n",
      "Last two digits is:  74\n"
     ]
    }
   ],
   "source": [
    "mul = 1\n",
    "for i in range(4):\n",
    "    inp = int(input('Please enter a digit: '))\n",
    "    mul*=inp\n",
    "print('The multiplication value is: ', mul)\n",
    "print('Last two digits is: ', mul%100)"
   ]
  },
  {
   "cell_type": "markdown",
   "id": "d7ab15bb",
   "metadata": {
    "ExecuteTime": {
     "end_time": "2023-07-23T22:26:14.833712Z",
     "start_time": "2023-07-23T22:26:14.819130Z"
    }
   },
   "source": [
    "### 10- Given a number X. Determine if the number is prime or not"
   ]
  },
  {
   "cell_type": "code",
   "execution_count": 6,
   "id": "59b27f0a",
   "metadata": {
    "ExecuteTime": {
     "end_time": "2023-07-23T22:35:25.933766Z",
     "start_time": "2023-07-23T22:35:24.168681Z"
    }
   },
   "outputs": [
    {
     "name": "stdout",
     "output_type": "stream",
     "text": [
      "Please enter a number: 2\n",
      "Prime\n"
     ]
    }
   ],
   "source": [
    "inp = int(input('Please enter a number: '))\n",
    "\n",
    "for i in range(2,inp):\n",
    "    if inp%i==0:\n",
    "        print('Not prime')\n",
    "        break\n",
    "else:\n",
    "    print('Prime')"
   ]
  },
  {
   "cell_type": "code",
   "execution_count": null,
   "id": "03f6ff0e",
   "metadata": {},
   "outputs": [],
   "source": []
  },
  {
   "cell_type": "markdown",
   "id": "e1d1dcf9",
   "metadata": {},
   "source": [
    "### 11- Given a number N and a list A of N numbers. Determine if the number X exists in array A or not and print its position (0-index)."
   ]
  },
  {
   "cell_type": "code",
   "execution_count": 8,
   "id": "2b002b0e",
   "metadata": {
    "ExecuteTime": {
     "end_time": "2023-07-23T22:53:41.474835Z",
     "start_time": "2023-07-23T22:53:41.458293Z"
    }
   },
   "outputs": [
    {
     "name": "stdout",
     "output_type": "stream",
     "text": [
      "Enter the range of the list: 4\n",
      "Enter a number: 2\n",
      "Enter a number: 3\n",
      "Enter a number: 5\n",
      "Enter a number: 6\n",
      "[2, 3, 5, 6]\n",
      "Enter a number to be searched: 9\n",
      "Number not exists\n"
     ]
    }
   ],
   "source": [
    "A = []\n",
    "N = int(input('Enter the range of the list: '))\n",
    "for i in range(N):\n",
    "    inp = int(input('Enter a number: '))\n",
    "    A.append(inp)\n",
    "\n",
    "print(A)\n",
    "\n",
    "n = int(input(\"Enter a number to be searched: \"))\n",
    "i = 0\n",
    "            \n",
    "\n",
    "while i < len(A):\n",
    "    if n == A[i]:\n",
    "        print(\"Number exists\")\n",
    "        print(\"index =\", i)\n",
    "        break\n",
    "    i += 1\n",
    "else:\n",
    "    print(\"Number not exists\")"
   ]
  },
  {
   "cell_type": "markdown",
   "id": "f2ec854b",
   "metadata": {},
   "source": [
    "### 12- Given a number N and a list A of N numbers. Determine if the array is lucky or not.\n",
    "\n",
    "#### Note: the array is lucky if the frequency (number of occurrence) of the minimum element is odd."
   ]
  },
  {
   "cell_type": "code",
   "execution_count": 22,
   "id": "0c4f7f4b",
   "metadata": {
    "ExecuteTime": {
     "end_time": "2023-07-23T23:02:02.490192Z",
     "start_time": "2023-07-23T23:02:02.476874Z"
    }
   },
   "outputs": [
    {
     "name": "stdout",
     "output_type": "stream",
     "text": [
      "Enter the range of the list: 6\n",
      "Enter a number: 1\n",
      "Enter a number: 3\n",
      "Enter a number: 3\n",
      "Enter a number: 1\n",
      "Enter a number: 1\n",
      "Enter a number: 1\n",
      "[1, 3, 3, 1, 1, 1]\n",
      "minimum =  1\n",
      "i=  1\n",
      "i=  1\n",
      "i=  1\n",
      "i=  1\n",
      "Not lucky\n"
     ]
    }
   ],
   "source": [
    "A = []\n",
    "N = int(input('Enter the range of the list: '))\n",
    "for i in range(N):\n",
    "    inp = int(input('Enter a number: '))\n",
    "    A.append(inp)\n",
    "\n",
    "print(A)\n",
    "minimum = min(A)\n",
    "count = 0\n",
    "\n",
    "for i in A:\n",
    "    if i==minimum:\n",
    "        count+=1\n",
    "\n",
    "if count%2==0:\n",
    "    print('Not lucky')\n",
    "else:\n",
    "    print('Lucky')"
   ]
  },
  {
   "cell_type": "markdown",
   "id": "e1ce1ae5",
   "metadata": {},
   "source": [
    "### 13-Given a number N and a list A of N numbers. Print the array after doing the following operations:\n",
    "\n",
    "#### Find minimum number in these numbers.\n",
    "#### Find maximum number in these numbers.\n",
    "##### Swap minimum number with maximum number."
   ]
  },
  {
   "cell_type": "code",
   "execution_count": 4,
   "id": "e0d6e639",
   "metadata": {
    "ExecuteTime": {
     "end_time": "2023-07-23T23:10:04.293733Z",
     "start_time": "2023-07-23T23:10:04.280256Z"
    }
   },
   "outputs": [
    {
     "name": "stdout",
     "output_type": "stream",
     "text": [
      "Enter the range of the list: 4\n",
      "Enter a number: 656\n",
      "Enter a number: 3233\n",
      "Enter a number: 5\n",
      "Enter a number: 23\n",
      "[656, 3233, 5, 23]\n",
      "Minimum number = 5\n",
      "maximum number = 3233\n",
      "[656, 5, 3233, 23]\n"
     ]
    }
   ],
   "source": [
    "A = []\n",
    "N = int(input('Enter the range of the list: '))\n",
    "for i in range(N):\n",
    "    inp = int(input('Enter a number: '))\n",
    "    A.append(inp)\n",
    "\n",
    "print(A)\n",
    "minimum = min(A)\n",
    "print('Minimum number =', minimum)\n",
    "maximum = max(A)\n",
    "print('maximum number =', maximum)\n",
    "\n",
    "i = 0\n",
    "\n",
    "while i < len(A):\n",
    " \n",
    "    if A[i] == minimum:\n",
    "        A[i] = maximum\n",
    " \n",
    "    elif A[i] == maximum:\n",
    "        A[i] = minimum\n",
    " \n",
    "    i += 1\n",
    "print(A)"
   ]
  },
  {
   "cell_type": "code",
   "execution_count": null,
   "id": "20165184",
   "metadata": {
    "ExecuteTime": {
     "end_time": "2023-07-23T23:10:04.651957Z",
     "start_time": "2023-07-23T23:10:04.648955Z"
    }
   },
   "outputs": [],
   "source": []
  },
  {
   "cell_type": "code",
   "execution_count": null,
   "id": "4e5ac998",
   "metadata": {
    "ExecuteTime": {
     "end_time": "2023-07-23T23:56:27.327202Z",
     "start_time": "2023-07-23T23:56:27.327202Z"
    }
   },
   "outputs": [],
   "source": []
  },
  {
   "cell_type": "markdown",
   "id": "9eb8e9c5",
   "metadata": {
    "ExecuteTime": {
     "end_time": "2023-07-23T23:10:06.436833Z",
     "start_time": "2023-07-23T23:10:06.422086Z"
    }
   },
   "source": [
    "### 14-Given a number N and an array A of N numbers. Print the lowest number and its position.\n",
    "\n",
    "### Note: if there are more than one answer print first one's position."
   ]
  },
  {
   "cell_type": "code",
   "execution_count": 4,
   "id": "018e01c8",
   "metadata": {
    "ExecuteTime": {
     "end_time": "2023-07-23T23:20:38.498527Z",
     "start_time": "2023-07-23T23:20:38.490451Z"
    }
   },
   "outputs": [
    {
     "name": "stdout",
     "output_type": "stream",
     "text": [
      "Enter the range of the list: 4\n",
      "Enter a number: 1\n",
      "Enter a number: 1\n",
      "Enter a number: 2\n",
      "Enter a number: 2\n",
      "[1, 1, 2, 2]\n",
      "minimum value:  1\n",
      "index:  0\n"
     ]
    }
   ],
   "source": [
    "A = []\n",
    "N = int(input('Enter the range of the list: '))\n",
    "for i in range(N):\n",
    "    inp = int(input('Enter a number: '))\n",
    "    A.append(inp)\n",
    "\n",
    "print(A)\n",
    "minimum = min(A)\n",
    "print('minimum value: ',minimum)\n",
    "print('index: ', A.index(minimum))"
   ]
  },
  {
   "cell_type": "code",
   "execution_count": null,
   "id": "477554c7",
   "metadata": {
    "ExecuteTime": {
     "end_time": "2023-07-23T23:20:55.126958Z",
     "start_time": "2023-07-23T23:20:55.120450Z"
    }
   },
   "outputs": [],
   "source": []
  },
  {
   "cell_type": "code",
   "execution_count": null,
   "id": "27e032e4",
   "metadata": {
    "ExecuteTime": {
     "end_time": "2023-07-23T23:20:55.425024Z",
     "start_time": "2023-07-23T23:20:55.407711Z"
    }
   },
   "outputs": [],
   "source": []
  },
  {
   "cell_type": "markdown",
   "id": "f35d3427",
   "metadata": {
    "ExecuteTime": {
     "end_time": "2023-07-23T23:20:55.880128Z",
     "start_time": "2023-07-23T23:20:55.861804Z"
    }
   },
   "source": [
    "### 15-Given a number N and an array A of N numbers. Print the numbers after sorting them"
   ]
  },
  {
   "cell_type": "code",
   "execution_count": 6,
   "id": "a6e0edd4",
   "metadata": {
    "ExecuteTime": {
     "end_time": "2023-07-23T23:46:13.340484Z",
     "start_time": "2023-07-23T23:46:13.324468Z"
    }
   },
   "outputs": [
    {
     "name": "stdout",
     "output_type": "stream",
     "text": [
      "Enter the range of the list: 4\n",
      "Enter a number: 1\n",
      "Enter a number: 5\n",
      "Enter a number: 3\n",
      "Enter a number: 7\n",
      "[1, 5, 3, 7]\n",
      "[1, 3, 5, 7]\n"
     ]
    }
   ],
   "source": [
    "A = []\n",
    "N = int(input('Enter the range of the list: '))\n",
    "for i in range(N):\n",
    "    inp = int(input('Enter a number: '))\n",
    "    A.append(inp)\n",
    "\n",
    "print(A)\n",
    "A.sort()\n",
    "print(A)"
   ]
  },
  {
   "cell_type": "code",
   "execution_count": null,
   "id": "38100d74",
   "metadata": {
    "ExecuteTime": {
     "end_time": "2023-07-23T23:46:14.343960Z",
     "start_time": "2023-07-23T23:46:14.325805Z"
    }
   },
   "outputs": [],
   "source": []
  },
  {
   "cell_type": "markdown",
   "id": "a172f354",
   "metadata": {
    "ExecuteTime": {
     "end_time": "2023-07-23T23:46:15.127981Z",
     "start_time": "2023-07-23T23:46:15.108766Z"
    }
   },
   "source": [
    "### 16- Write a Python program to remove spaces from a given string"
   ]
  },
  {
   "cell_type": "code",
   "execution_count": 12,
   "id": "36d3569d",
   "metadata": {
    "ExecuteTime": {
     "end_time": "2023-07-23T23:50:06.443640Z",
     "start_time": "2023-07-23T23:50:01.592919Z"
    }
   },
   "outputs": [
    {
     "name": "stdout",
     "output_type": "stream",
     "text": [
      "Please enter a sentence: i love me o sooo\n",
      "ilovemeosooo"
     ]
    }
   ],
   "source": [
    "inp = input('Please enter a sentence: ')\n",
    "list1 = inp.split(\" \")\n",
    "\n",
    "for i in list1:\n",
    "    print(i,end=\"\")"
   ]
  },
  {
   "cell_type": "markdown",
   "id": "a5470d49",
   "metadata": {},
   "source": [
    "### 17-write a Python program to swap first and last element of any list."
   ]
  },
  {
   "cell_type": "code",
   "execution_count": 1,
   "id": "9d73887b",
   "metadata": {
    "ExecuteTime": {
     "end_time": "2023-07-23T23:50:59.283429Z",
     "start_time": "2023-07-23T23:50:59.272096Z"
    }
   },
   "outputs": [
    {
     "name": "stdout",
     "output_type": "stream",
     "text": [
      "Enter the range of the list: 4\n",
      "Enter a number: 33\n",
      "Enter a number: 543\n",
      "Enter a number: 35\n",
      "Enter a number: 2\n",
      "[33, 543, 35, 2]\n",
      "[2, 543, 35, 33]\n"
     ]
    }
   ],
   "source": [
    "A = []\n",
    "N = int(input('Enter the range of the list: '))\n",
    "for i in range(N):\n",
    "    inp = int(input('Enter a number: '))\n",
    "    A.append(inp)\n",
    "\n",
    "print(A)\n",
    "i = 0\n",
    "\n",
    "temp = A[0]\n",
    "A[0] = A[N-1]\n",
    "A[N-1] = temp\n",
    "print(A)"
   ]
  },
  {
   "cell_type": "code",
   "execution_count": null,
   "id": "faa49913",
   "metadata": {
    "ExecuteTime": {
     "end_time": "2023-07-23T23:51:31.917164Z",
     "start_time": "2023-07-23T23:51:31.900550Z"
    }
   },
   "outputs": [],
   "source": []
  },
  {
   "cell_type": "markdown",
   "id": "1ae6cf8e",
   "metadata": {
    "ExecuteTime": {
     "end_time": "2023-07-23T23:51:34.302184Z",
     "start_time": "2023-07-23T23:51:34.285461Z"
    }
   },
   "source": [
    "### 18- Write a Python program to add member(s) to a set."
   ]
  },
  {
   "cell_type": "code",
   "execution_count": 13,
   "id": "3e905e5b",
   "metadata": {},
   "outputs": [
    {
     "name": "stdout",
     "output_type": "stream",
     "text": [
      "{'Apple', 'Mango', 'Banana'}\n",
      "Please enter number of elements to be added to the set: 2\n",
      "Please enter a member: moz\n",
      "Please enter a member: lbn\n",
      "{'lbn', 'Mango', 'Banana', 'Apple', 'moz'}\n"
     ]
    }
   ],
   "source": [
    "set1 = {'Apple','Banana','Mango'}\n",
    "print(set1)\n",
    "\n",
    "inp = int(input('Please enter number of elements to be added to the set: '))\n",
    "\n",
    "for i in range(inp):\n",
    "    inp2 = input('Please enter a member: ')\n",
    "    set1.add(inp2)\n",
    "    \n",
    "print(set1)"
   ]
  },
  {
   "cell_type": "code",
   "execution_count": null,
   "id": "341c3d16",
   "metadata": {},
   "outputs": [],
   "source": []
  },
  {
   "cell_type": "markdown",
   "id": "db811fec",
   "metadata": {},
   "source": [
    "### 19-Write a Python program to remove an item from a set if it is present in the set"
   ]
  },
  {
   "cell_type": "code",
   "execution_count": 5,
   "id": "daa40ca6",
   "metadata": {},
   "outputs": [
    {
     "name": "stdout",
     "output_type": "stream",
     "text": [
      "{'Apple', 'Mango', 'Banana'}\n",
      "Please enter a member: Apple\n",
      "{'Mango', 'Banana'}\n"
     ]
    }
   ],
   "source": [
    "set1 = {'Apple','Banana','Mango'}\n",
    "print(set1)\n",
    "\n",
    "inp2 = input('Please enter a member: ')\n",
    "set1.discard(inp2)\n",
    "\n",
    "print(set1)"
   ]
  },
  {
   "cell_type": "markdown",
   "id": "240c9bde",
   "metadata": {},
   "source": [
    "### 20-Write a Python program to get the maximum and minimum values of a dictionary values"
   ]
  },
  {
   "cell_type": "code",
   "execution_count": 14,
   "id": "4b767f24",
   "metadata": {
    "ExecuteTime": {
     "end_time": "2023-07-23T23:56:35.117528Z",
     "start_time": "2023-07-23T23:56:35.105969Z"
    }
   },
   "outputs": [
    {
     "name": "stdout",
     "output_type": "stream",
     "text": [
      "Maximum value = 30\n",
      "Minimum value = 10\n"
     ]
    }
   ],
   "source": [
    "d = {'x':10, 'y':20, 'z': 30}\n",
    "\n",
    "print('Maximum value =',max(list(d.values())))\n",
    "print('Minimum value =',min(list(d.values())))"
   ]
  },
  {
   "cell_type": "code",
   "execution_count": null,
   "id": "24423e73",
   "metadata": {
    "ExecuteTime": {
     "end_time": "2023-07-23T23:56:35.677287Z",
     "start_time": "2023-07-23T23:56:35.661315Z"
    }
   },
   "outputs": [],
   "source": []
  },
  {
   "cell_type": "code",
   "execution_count": null,
   "id": "7ae7d263",
   "metadata": {
    "ExecuteTime": {
     "end_time": "2023-07-23T23:56:37.430631Z",
     "start_time": "2023-07-23T23:56:37.425625Z"
    }
   },
   "outputs": [],
   "source": []
  },
  {
   "cell_type": "markdown",
   "id": "f1d3a246",
   "metadata": {},
   "source": [
    "### 21-Write a Python program to drop empty items from a given dictionary.Original Dictionary:{'c1': 'Red', 'c2': 'Green', 'c3': None}New Dictionary after dropping empty items:{'c1': 'Red', 'c2': 'Green'}"
   ]
  },
  {
   "cell_type": "code",
   "execution_count": 11,
   "id": "7c2a5807",
   "metadata": {},
   "outputs": [
    {
     "name": "stdout",
     "output_type": "stream",
     "text": [
      "Original Dictionary: {'c1': 'Red', 'c2': 'Green', 'c3': None}\n",
      "New Dictionary after dropping empty items {'c1': 'Red', 'c2': 'Green'}\n"
     ]
    }
   ],
   "source": [
    "Dictionary = {'c1': 'Red', 'c2': 'Green', 'c3': None}\n",
    "print('Original Dictionary:', Dictionary)\n",
    "Dictionary.pop('c3', None)\n",
    "print('New Dictionary after dropping empty items', Dictionary)"
   ]
  },
  {
   "cell_type": "code",
   "execution_count": null,
   "id": "bc1b0a5b",
   "metadata": {},
   "outputs": [],
   "source": []
  }
 ],
 "metadata": {
  "kernelspec": {
   "display_name": "Python 3 (ipykernel)",
   "language": "python",
   "name": "python3"
  },
  "language_info": {
   "codemirror_mode": {
    "name": "ipython",
    "version": 3
   },
   "file_extension": ".py",
   "mimetype": "text/x-python",
   "name": "python",
   "nbconvert_exporter": "python",
   "pygments_lexer": "ipython3",
   "version": "3.11.4"
  }
 },
 "nbformat": 4,
 "nbformat_minor": 5
}
