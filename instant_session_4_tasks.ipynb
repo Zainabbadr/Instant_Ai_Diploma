{
 "cells": [
  {
   "cell_type": "markdown",
   "id": "759d04ba",
   "metadata": {},
   "source": [
    "**1-Write a Python program to calculate the length of a string using 2 ways"
   ]
  },
  {
   "cell_type": "code",
   "execution_count": 2,
   "id": "e434c950",
   "metadata": {},
   "outputs": [
    {
     "name": "stdout",
     "output_type": "stream",
     "text": [
      "Please enter a word: anaaa\n",
      "The lenth of the word is:  5\n"
     ]
    }
   ],
   "source": [
    "# way 1\n",
    "inp = input('Please enter a word: ')\n",
    "print('The lenth of the word is: ', len(inp))"
   ]
  },
  {
   "cell_type": "code",
   "execution_count": 4,
   "id": "7a2dfa32",
   "metadata": {},
   "outputs": [
    {
     "name": "stdout",
     "output_type": "stream",
     "text": [
      "Please enter a word: ana zainab\n",
      "The lenth of the word is:  10\n"
     ]
    }
   ],
   "source": [
    "# way 2\n",
    "inp = input('Please enter a word: ')\n",
    "count = 0\n",
    "for i in inp:\n",
    "    count+=1\n",
    "print('The lenth of the word is: ', count)"
   ]
  },
  {
   "cell_type": "markdown",
   "id": "d7cc9da7",
   "metadata": {},
   "source": [
    "**2-Write a Python program to get a string made of the first 2 and last 2 characters of a given string. If the string length is less than 2, return the empty string instead (\"##Sample String : 'w3resource'\n",
    "Expected Result : 'w3ce'\n",
    "##Sample String : 'w3'\n",
    "Expected Result : 'w3w3'\n",
    "##Sample String : ' w'\n",
    "Expected Result : Empty String)"
   ]
  },
  {
   "cell_type": "code",
   "execution_count": 9,
   "id": "dafa9dd8",
   "metadata": {},
   "outputs": [
    {
     "name": "stdout",
     "output_type": "stream",
     "text": [
      "Please enter a word: nottno\n",
      "nono\n"
     ]
    }
   ],
   "source": [
    "inp = input('Please enter a word: ')\n",
    "if len(inp)<2:\n",
    "    print('Empty String')\n",
    "else:\n",
    "    print(inp[:2]+inp[-2:])"
   ]
  },
  {
   "cell_type": "markdown",
   "id": "1534f956",
   "metadata": {},
   "source": [
    "**3-Write a Python program to add 'ing' at the end of a given string (length should be at least 3). If the given string already ends with 'ing', add 'ly' instead. If the string length of the given string is less than 3, leave it unchanged. (Sample String : 'abc'\n",
    "Expected Result : 'abcing')"
   ]
  },
  {
   "cell_type": "code",
   "execution_count": 13,
   "id": "7ff8cec4",
   "metadata": {},
   "outputs": [
    {
     "name": "stdout",
     "output_type": "stream",
     "text": [
      "Please enter a word: ab\n",
      "ab\n"
     ]
    }
   ],
   "source": [
    "inp = input('Please enter a word: ')\n",
    "inp.lower()\n",
    "if len(inp)<3:\n",
    "    print(inp)\n",
    "elif inp[-3:]=='ing':\n",
    "    print(inp[:-3]+'ly')\n",
    "else:\n",
    "    print(inp+'ing')"
   ]
  },
  {
   "cell_type": "markdown",
   "id": "1c0a6627",
   "metadata": {},
   "source": [
    "**4-Write a Python function that takes a list of words and return the longest word and the length of the longest one\n",
    "(Longest word: Exercises\n",
    "Length of the longest word: 9)"
   ]
  },
  {
   "cell_type": "code",
   "execution_count": 3,
   "id": "397341d9",
   "metadata": {},
   "outputs": [
    {
     "name": "stdout",
     "output_type": "stream",
     "text": [
      "Enter the range of the list: 3\n",
      "Enter a word: fruit\n",
      "Enter a word: \n",
      "Enter a word: man\n",
      "('Longest word: fruit, Length of the longest word:', 5)\n"
     ]
    }
   ],
   "source": [
    "def long(lst):\n",
    "    lst.sort()\n",
    "    for i in range(1, len(lst)):\n",
    "        if len(lst[i]) >len(lst[i-1]):\n",
    "                newl = lst[i]\n",
    "    print(('Longest word: '+newl + ', Length of the longest word:', len(newl)))\n",
    "A = []\n",
    "N = int(input('Enter the range of the list: '))\n",
    "for i in range(N):\n",
    "    inp = input('Enter a word: ')\n",
    "    A.append(inp)\n",
    "    \n",
    "long(A)"
   ]
  },
  {
   "cell_type": "markdown",
   "id": "53a03a6a",
   "metadata": {},
   "source": [
    "**5-Write a Python program to change a given string to a newly string where the first and last chars have been exchanged using 2 ways (Sample String:abca  Expected Result:ebce)"
   ]
  },
  {
   "cell_type": "code",
   "execution_count": 18,
   "id": "fd327d2a",
   "metadata": {},
   "outputs": [
    {
     "name": "stdout",
     "output_type": "stream",
     "text": [
      "Please enter a word: abca\n",
      "Please enter a letter to exchange: e\n",
      "ebce\n"
     ]
    }
   ],
   "source": [
    "# way 1\n",
    "inp = input('Please enter a word: ')\n",
    "a = input('Please enter a letter to exchange: ')\n",
    "\n",
    "inp = a + inp[1:-1] + a\n",
    "print(inp)\n"
   ]
  },
  {
   "cell_type": "code",
   "execution_count": 23,
   "id": "285788b4",
   "metadata": {},
   "outputs": [
    {
     "name": "stdout",
     "output_type": "stream",
     "text": [
      "Please enter a word: banana\n",
      "Please enter a letter to exchange: e\n",
      "eanane\n"
     ]
    }
   ],
   "source": [
    "# way 2\n",
    "inp = input('Please enter a word: ')\n",
    "lst=[]\n",
    "for letter in inp:\n",
    "    lst.append(letter)\n",
    "a = input('Please enter a letter to exchange: ')\n",
    "\n",
    "for i in range(len(lst)):\n",
    "    if i==0 or i==len(lst)-1:\n",
    "        lst[i] = a\n",
    "\n",
    "sp = ''.join(lst)\n",
    "\n",
    "print(sp)"
   ]
  },
  {
   "cell_type": "markdown",
   "id": "25f89808",
   "metadata": {},
   "source": [
    "**6-Write a Python program to remove characters that have odd index values in a given string (Sample String:abca Expected Result:ac)"
   ]
  },
  {
   "cell_type": "code",
   "execution_count": 14,
   "id": "05959bd7",
   "metadata": {},
   "outputs": [
    {
     "name": "stdout",
     "output_type": "stream",
     "text": [
      "Please enter a word: abca\n",
      "ac\n"
     ]
    }
   ],
   "source": [
    "inp = input('Please enter a word: ')\n",
    "print(inp[::2])"
   ]
  },
  {
   "cell_type": "code",
   "execution_count": 13,
   "id": "995d42a9",
   "metadata": {},
   "outputs": [
    {
     "name": "stdout",
     "output_type": "stream",
     "text": [
      "Please enter a word: fruit\n",
      "fut\n"
     ]
    }
   ],
   "source": []
  },
  {
   "cell_type": "markdown",
   "id": "eb16e898",
   "metadata": {},
   "source": [
    "**7-Write a Python program to count the occurrences of each word in a given sentence (Sample String:amr and ahmed are frindes but amr is the tallest Expected Result:2)"
   ]
  },
  {
   "cell_type": "code",
   "execution_count": 7,
   "id": "01ce6cf5",
   "metadata": {},
   "outputs": [
    {
     "name": "stdout",
     "output_type": "stream",
     "text": [
      "Please enter a sentence: a f b s h e f s g s s h d h d s\n",
      "['a', 'f', 'b', 's', 'h', 'e', 'f', 's', 'g', 's', 's', 'h', 'd', 'h', 'd', 's']\n",
      "5\n"
     ]
    }
   ],
   "source": [
    "inp = input('Please enter a sentence: ')\n",
    "lst=[]\n",
    "\n",
    "lst = inp.split(\" \")\n",
    "print(lst)\n",
    "\n",
    "newl = []\n",
    "\n",
    "for i in lst:\n",
    "    newl.append(lst.count(i))\n",
    "\n",
    "print(max(newl))"
   ]
  },
  {
   "cell_type": "markdown",
   "id": "4e8125f1",
   "metadata": {},
   "source": [
    "**8-Write a Python script that takes input from the user and displays that input back in upper and lower cases"
   ]
  },
  {
   "cell_type": "code",
   "execution_count": 20,
   "id": "66c8f778",
   "metadata": {},
   "outputs": [
    {
     "name": "stdout",
     "output_type": "stream",
     "text": [
      "Please enter a word: FRUIT\n",
      "FRUIT\n",
      "fruit\n"
     ]
    }
   ],
   "source": [
    "inp = input('Please enter a word: ')\n",
    "print(inp.upper())\n",
    "print(inp.lower())"
   ]
  },
  {
   "cell_type": "markdown",
   "id": "fcd68aa1",
   "metadata": {},
   "source": [
    "**9-Write a Python function to reverse a string if its length is a multiple of 4"
   ]
  },
  {
   "cell_type": "code",
   "execution_count": 31,
   "id": "0671a931",
   "metadata": {},
   "outputs": [
    {
     "name": "stdout",
     "output_type": "stream",
     "text": [
      "Please enter a word: word\n",
      "drow\n"
     ]
    }
   ],
   "source": [
    "inp = input('Please enter a word: ')\n",
    "def rev(inp):\n",
    "    lst=[]\n",
    "    for letter in inp:\n",
    "        lst.append(letter)\n",
    "    \n",
    "    if len(lst)%4==0:\n",
    "        lst.reverse()\n",
    "    print(''.join(lst))\n",
    "\n",
    "rev(inp)"
   ]
  },
  {
   "cell_type": "markdown",
   "id": "b577c68d",
   "metadata": {},
   "source": [
    "**10- Write a Python program to remove a newline in Python"
   ]
  },
  {
   "cell_type": "code",
   "execution_count": 14,
   "id": "e0c6525a",
   "metadata": {},
   "outputs": [
    {
     "name": "stdout",
     "output_type": "stream",
     "text": [
      "Hello\n",
      "Hi\n",
      "Hola\n",
      "HelloHiHola\n"
     ]
    }
   ],
   "source": [
    "string = 'Hello\\nHi\\nHola' #example\n",
    "print(string)\n",
    "\n",
    "for i in range(len(string)):\n",
    "    if string[i] == '\\n' :\n",
    "        string2 = string.replace(\"\\n\",\"\")\n",
    "\n",
    "print(string2)"
   ]
  },
  {
   "cell_type": "markdown",
   "id": "80db5ae0",
   "metadata": {},
   "source": [
    "**11-Write a Python program to check whether a string starts with specified characters"
   ]
  },
  {
   "cell_type": "code",
   "execution_count": 44,
   "id": "0cc4e03e",
   "metadata": {},
   "outputs": [
    {
     "name": "stdout",
     "output_type": "stream",
     "text": [
      "Please enter a word: abcdef\n",
      "Please enter number of characters: 3\n",
      "Please enter a character to check: abc\n",
      "abc\n",
      "Yes\n"
     ]
    }
   ],
   "source": [
    "#______________________________________________________________\n",
    "inp = input('Please enter a word: ')\n",
    "length = int(input('Please enter number of characters: '))\n",
    "a = input('Please enter a character to check: ')\n",
    "print(inp[:length])\n",
    "if inp[:length]==a:\n",
    "    print('Yes')\n",
    "else:\n",
    "    print('No')"
   ]
  },
  {
   "cell_type": "markdown",
   "id": "593a68db",
   "metadata": {},
   "source": [
    "**12- Write a Python program to add prefix text to all of the lines in a string"
   ]
  },
  {
   "cell_type": "code",
   "execution_count": 19,
   "id": "d2e46ada",
   "metadata": {},
   "outputs": [
    {
     "name": "stdout",
     "output_type": "stream",
     "text": [
      "Hello\n",
      "Hi\n",
      "Hola\n",
      "my name is ahmed\n",
      "Hello pref\n",
      "Hi pref\n",
      "Hola pref\n",
      "my name is ahmed pref\n"
     ]
    }
   ],
   "source": [
    "\n",
    "string = 'Hello\\nHi\\nHola\\nmy name is ahmed' #example you can change\n",
    "print(string)\n",
    "\n",
    "prefix = ' pref'\n",
    "lst = []\n",
    "lst2 = []\n",
    "lst = string.split('\\n')\n",
    "for index in range(len(lst)*2):\n",
    "    if index%2!=0:\n",
    "        lst.insert(index,prefix)\n",
    "for i in range(0, len(lst), 2):\n",
    "    lst2.append(lst[i] + lst[i+1])\n",
    "\n",
    "string = \"\\n\".join(lst2)\n",
    "print(string)"
   ]
  },
  {
   "cell_type": "markdown",
   "id": "86fa1543",
   "metadata": {},
   "source": [
    "**13-Write a Python program to print the following numbers up to 2 decimal places"
   ]
  },
  {
   "cell_type": "code",
   "execution_count": 22,
   "id": "cd4a9d89",
   "metadata": {},
   "outputs": [
    {
     "name": "stdout",
     "output_type": "stream",
     "text": [
      "Please enter a number: -366.35432\n",
      "-366.35\n"
     ]
    }
   ],
   "source": [
    "inp = float(input('Please enter a number: '))\n",
    "string = str(inp)\n",
    "\n",
    "lst=[]\n",
    "for letter in string:\n",
    "    lst.append(letter)\n",
    "\n",
    "for index in range(len(lst)):\n",
    "    if lst[index]=='.':\n",
    "        lst = lst[:index+3]\n",
    "        break\n",
    "\n",
    "string = ''.join(lst)\n",
    "inp = float(string)\n",
    "print(inp)"
   ]
  },
  {
   "cell_type": "markdown",
   "id": "452c0ab0",
   "metadata": {},
   "source": [
    "**14-Write a Python program to print the following numbers up to 2 decimal places with a sign"
   ]
  },
  {
   "cell_type": "code",
   "execution_count": 36,
   "id": "73e82479",
   "metadata": {},
   "outputs": [
    {
     "name": "stdout",
     "output_type": "stream",
     "text": [
      "Please enter a number: 57755.56767\n",
      "+57755.56\n"
     ]
    }
   ],
   "source": [
    "inp = float(input('Please enter a number: '))\n",
    "string = str(inp)\n",
    "\n",
    "lst=[]\n",
    "for letter in string:\n",
    "    lst.append(letter)\n",
    "\n",
    "for index in range(len(lst)):\n",
    "    if lst[index]=='.':\n",
    "        lst = lst[:index+3]\n",
    "        break\n",
    "\n",
    "if lst[0]!='-':\n",
    "    lst.insert(0,'+')\n",
    "\n",
    "string = ''.join(lst)\n",
    "\n",
    "print(string)"
   ]
  },
  {
   "cell_type": "markdown",
   "id": "32b1811a",
   "metadata": {},
   "source": [
    "**15-Write a Python program to display a number with a comma separator"
   ]
  },
  {
   "cell_type": "code",
   "execution_count": 3,
   "id": "f30fc0b6",
   "metadata": {},
   "outputs": [
    {
     "name": "stdout",
     "output_type": "stream",
     "text": [
      "Please enter a number: 326375\n",
      "3,2,6,3,7,5\n"
     ]
    }
   ],
   "source": [
    "inp = input('Please enter a number: ')\n",
    "\n",
    "lst=[]\n",
    "for letter in inp:\n",
    "    lst.append(letter)\n",
    "\n",
    "print(\",\".join(lst))"
   ]
  },
  {
   "cell_type": "markdown",
   "id": "0477f487",
   "metadata": {},
   "source": [
    "**16-Write a Python program to reverse a string using 2 ways"
   ]
  },
  {
   "cell_type": "code",
   "execution_count": 9,
   "id": "aa8beec8",
   "metadata": {},
   "outputs": [
    {
     "name": "stdout",
     "output_type": "stream",
     "text": [
      "Please enter a word: this not true\n",
      "eurt ton siht\n"
     ]
    }
   ],
   "source": [
    "# way 1\n",
    "inp = input('Please enter a word: ')\n",
    "\n",
    "print(inp[::-1])"
   ]
  },
  {
   "cell_type": "code",
   "execution_count": 5,
   "id": "f5712b88",
   "metadata": {},
   "outputs": [
    {
     "name": "stdout",
     "output_type": "stream",
     "text": [
      "Please enter a word: this not true\n",
      "eurt ton siht\n"
     ]
    }
   ],
   "source": [
    "# way 2\n",
    "inp = input('Please enter a word: ')\n",
    "\n",
    "lst=[]\n",
    "for letter in inp:\n",
    "    lst.append(letter)\n",
    "lst.reverse()\n",
    "print(\"\".join(lst))"
   ]
  },
  {
   "cell_type": "markdown",
   "id": "5afc3166",
   "metadata": {},
   "source": [
    " **17-Write a Python program to count repeated characters in a string (hint:use dictionary)"
   ]
  },
  {
   "cell_type": "code",
   "execution_count": 14,
   "id": "515a469c",
   "metadata": {},
   "outputs": [
    {
     "name": "stdout",
     "output_type": "stream",
     "text": [
      "Please enter a sentence: I hate prom primo\n",
      "I  ->  1\n",
      "   ->  3\n",
      "h  ->  1\n",
      "a  ->  1\n",
      "t  ->  1\n",
      "e  ->  1\n",
      "p  ->  2\n",
      "r  ->  2\n",
      "o  ->  2\n",
      "m  ->  2\n",
      "i  ->  1\n"
     ]
    }
   ],
   "source": [
    "string = input('Please enter a sentence: ')\n",
    "dictionary = {}\n",
    "\n",
    "for char in string:\n",
    "    if( char in dictionary.keys()):\n",
    "        dictionary[char] += 1\n",
    "    else:\n",
    "        dictionary[char]=1\n",
    "\n",
    "for key,value in dictionary.items():\n",
    "    print(key,' -> ',value)"
   ]
  },
  {
   "cell_type": "markdown",
   "id": "ae14e4e5",
   "metadata": {},
   "source": [
    "**18-Write a Python program to find the first non-repeating character in a given string"
   ]
  },
  {
   "cell_type": "code",
   "execution_count": 4,
   "id": "d73778e5",
   "metadata": {},
   "outputs": [
    {
     "name": "stdout",
     "output_type": "stream",
     "text": [
      "Please enter a sentence: aaaaabbbbbabbcccccfffffff\n",
      "c\n"
     ]
    }
   ],
   "source": [
    "string = input('Please enter a sentence: ')\n",
    "dictionary = {}\n",
    "\n",
    "for char in string:\n",
    "    if( char in dictionary.keys()):\n",
    "        dictionary[char] += 1\n",
    "    else:\n",
    "        dictionary[char]=1\n",
    "\n",
    "for key,value in dictionary.items():\n",
    "    if value == min(dictionary.values()):\n",
    "        print(key)\n",
    "        break"
   ]
  },
  {
   "cell_type": "markdown",
   "id": "3adf5669",
   "metadata": {},
   "source": [
    "**19-Write a Python program to remove spaces from a given string"
   ]
  },
  {
   "cell_type": "code",
   "execution_count": 6,
   "id": "b4f22602",
   "metadata": {},
   "outputs": [
    {
     "name": "stdout",
     "output_type": "stream",
     "text": [
      "Please enter a sentence: This is python\n",
      "Thisispython\n"
     ]
    }
   ],
   "source": [
    "inp = input('Please enter a sentence: ')\n",
    "lst = inp.split(\" \")\n",
    "print(''.join(lst))"
   ]
  },
  {
   "cell_type": "markdown",
   "id": "734de60c",
   "metadata": {},
   "source": [
    "**20-Write a Python program to count the number of non-empty substrings of a given string"
   ]
  },
  {
   "cell_type": "code",
   "execution_count": 11,
   "id": "ef3f2274",
   "metadata": {},
   "outputs": [
    {
     "name": "stdout",
     "output_type": "stream",
     "text": [
      "Please enter a sentence: abfds\n",
      "15\n"
     ]
    }
   ],
   "source": [
    "inp = input('Please enter a sentence: ')\n",
    "# Count of non-empty substrings is n*(n+1)/2\n",
    "# If we include empty string also as substring, the count becomes n*(n+1)/2 + 1\n",
    "\n",
    "print(int(len(inp)*(len(inp)+1)/2))"
   ]
  },
  {
   "cell_type": "markdown",
   "id": "509998e2",
   "metadata": {},
   "source": [
    "**21-write a Python program to swap first and last element of any list."
   ]
  },
  {
   "cell_type": "code",
   "execution_count": 8,
   "id": "68692d7f",
   "metadata": {},
   "outputs": [
    {
     "name": "stdout",
     "output_type": "stream",
     "text": [
      "Please enter the size of list: 5\n",
      "Enter a number: 1\n",
      "Enter a number: 2\n",
      "Enter a number: 3\n",
      "Enter a number: 4\n",
      "Enter a number: 5\n",
      "[1, 2, 3, 4, 5]\n",
      "[5, 2, 3, 4, 1]\n"
     ]
    }
   ],
   "source": [
    "size = int(input('Please enter the size of list: '))\n",
    "l=[]\n",
    "\n",
    "for i in range(size):\n",
    "    n = int(input(\"Enter a number: \"))\n",
    "    l.append(n)\n",
    "print(l)\n",
    "\n",
    "l[0],l[size-1]=l[size-1],l[0]\n",
    "print(l)"
   ]
  },
  {
   "cell_type": "markdown",
   "id": "959e0837",
   "metadata": {},
   "source": [
    "**22-Given a list in Python and provided the positions of the elements, write a program to swap the two elements in the list. (Input : List = [23, 65, 19, 90], pos1 = 1, pos2 = 3\n",
    "Output : [19, 65, 23, 90])"
   ]
  },
  {
   "cell_type": "code",
   "execution_count": 9,
   "id": "225d8c6d",
   "metadata": {},
   "outputs": [
    {
     "name": "stdout",
     "output_type": "stream",
     "text": [
      "Please enter the size of list: 4\n",
      "Enter a number: 23\n",
      "Enter a number: 65\n",
      "Enter a number: 19\n",
      "Enter a number: 90\n",
      "[23, 65, 19, 90]\n",
      "Please enter position 1: 1\n",
      "Please enter position 2: 3\n",
      "[19, 65, 23, 90]\n"
     ]
    }
   ],
   "source": [
    "size = int(input('Please enter the size of list: '))\n",
    "l=[]\n",
    "\n",
    "for i in range(size):\n",
    "    n = int(input(\"Enter a number: \"))\n",
    "    l.append(n)\n",
    "print(l)\n",
    "\n",
    "pos1 = int(input('Please enter position 1: '))\n",
    "pos2 = int(input('Please enter position 2: '))\n",
    "pos1-=1\n",
    "pos2-=1\n",
    "\n",
    "l[pos1],l[pos2]=l[pos2],l[pos1]\n",
    "print(l)"
   ]
  },
  {
   "cell_type": "markdown",
   "id": "66fc6682",
   "metadata": {},
   "source": [
    "**23- search for the all ways to know the length of the list"
   ]
  },
  {
   "cell_type": "code",
   "execution_count": 12,
   "id": "e4cba6ad",
   "metadata": {},
   "outputs": [],
   "source": [
    "#Using len() function.\n",
    "#Using Naive Method.\n",
    "#Using length_hint()\n",
    "#Using sum() method.\n",
    "#Using a list comprehension.\n",
    "#Using recursion.\n",
    "#Using enumerate function.\n",
    "#Using Collections Module.\n",
    "# https://www.geeksforgeeks.org/python-ways-to-find-length-of-list/"
   ]
  },
  {
   "cell_type": "markdown",
   "id": "556bbac4",
   "metadata": {},
   "source": [
    "**24-write a Python code to find the Maximum number of list of numbers."
   ]
  },
  {
   "cell_type": "code",
   "execution_count": 12,
   "id": "15f342de",
   "metadata": {},
   "outputs": [
    {
     "name": "stdout",
     "output_type": "stream",
     "text": [
      "Please enter the size of list: 3\n",
      "Enter a number: 43\n",
      "Enter a number: 23\n",
      "Enter a number: 654\n",
      "[43, 23, 654]\n",
      "654\n"
     ]
    }
   ],
   "source": [
    "size = int(input('Please enter the size of list: '))\n",
    "l=[]\n",
    "\n",
    "for i in range(size):\n",
    "    n = int(input(\"Enter a number: \"))\n",
    "    l.append(n)\n",
    "print(l)\n",
    "\n",
    "print(max(l))"
   ]
  },
  {
   "cell_type": "markdown",
   "id": "5717b279",
   "metadata": {},
   "source": [
    "**25-write a Python code to find the Minimum number of list of numbers."
   ]
  },
  {
   "cell_type": "code",
   "execution_count": 13,
   "id": "21f8cbd6",
   "metadata": {},
   "outputs": [
    {
     "name": "stdout",
     "output_type": "stream",
     "text": [
      "Please enter the size of list: 3\n",
      "Enter a number: 234\n",
      "Enter a number: 2\n",
      "Enter a number: 253\n",
      "[234, 2, 253]\n",
      "2\n"
     ]
    }
   ],
   "source": [
    "size = int(input('Please enter the size of list: '))\n",
    "l=[]\n",
    "\n",
    "for i in range(size):\n",
    "    n = int(input(\"Enter a number: \"))\n",
    "    l.append(n)\n",
    "print(l)\n",
    "\n",
    "print(min(l))"
   ]
  },
  {
   "cell_type": "markdown",
   "id": "96822d96",
   "metadata": {},
   "source": [
    "**26-search for if an elem is existing in list"
   ]
  },
  {
   "cell_type": "code",
   "execution_count": 18,
   "id": "51ca5c9a",
   "metadata": {},
   "outputs": [
    {
     "name": "stdout",
     "output_type": "stream",
     "text": [
      "Please enter the size of list: 3\n",
      "Enter an element: a\n",
      "Enter an element: b\n",
      "Enter an element: c\n",
      "Enter an element to be searched: b\n",
      "Exist\n"
     ]
    }
   ],
   "source": [
    "size = int(input('Please enter the size of list: '))\n",
    "l=[]\n",
    "\n",
    "for i in range(size):\n",
    "    n = input(\"Enter an element: \")\n",
    "    l.append(n)\n",
    "\n",
    "inp = input(\"Enter an element to be searched: \")\n",
    "for i in l:\n",
    "    if i == inp:\n",
    "        print('Exist')\n",
    "        break\n",
    "else:\n",
    "    print('Not exist')"
   ]
  },
  {
   "cell_type": "markdown",
   "id": "d9557da7",
   "metadata": {},
   "source": [
    "**27- clear python list using different ways"
   ]
  },
  {
   "cell_type": "code",
   "execution_count": 1,
   "id": "b69858a3",
   "metadata": {},
   "outputs": [
    {
     "name": "stdout",
     "output_type": "stream",
     "text": [
      "[1, 2, 3, 4, 5, 6]\n",
      "[]\n"
     ]
    }
   ],
   "source": [
    "lst = [1,2,3,4,5,6]\n",
    "print(lst)\n",
    "lst.clear()\n",
    "print(lst)"
   ]
  },
  {
   "cell_type": "code",
   "execution_count": 16,
   "id": "f8216018",
   "metadata": {},
   "outputs": [
    {
     "name": "stdout",
     "output_type": "stream",
     "text": [
      "[1, 2, 3, 4, 5, 6]\n",
      "[]\n"
     ]
    }
   ],
   "source": [
    "lst = [1,2,3,4,5,6]\n",
    "print(lst)\n",
    "\n",
    "for i in range(len(lst)):\n",
    "    lst.remove(lst[0])\n",
    "\n",
    "    \n",
    "print(lst)"
   ]
  },
  {
   "cell_type": "markdown",
   "id": "52160e88",
   "metadata": {},
   "source": [
    "**28-remove duplicated elements from a list"
   ]
  },
  {
   "cell_type": "code",
   "execution_count": 37,
   "id": "5e362228",
   "metadata": {},
   "outputs": [
    {
     "name": "stdout",
     "output_type": "stream",
     "text": [
      "[1, 2, 3, 4, 5, 6, 4, 24, 1, 6, 6, 3, 4, 3, 44]\n",
      "[1, 2, 3, 4, 5, 6, 44, 24]\n"
     ]
    }
   ],
   "source": [
    "lst = [1,2,3,4,5,6,4,24,1,6,6,3,4,3,44]\n",
    "print(lst)\n",
    "\n",
    "st = set(lst)\n",
    "\n",
    "lst = list(st)\n",
    "print(lst)"
   ]
  },
  {
   "cell_type": "markdown",
   "id": "282337f7",
   "metadata": {},
   "source": [
    "**29-Given list values and keys list, convert these values to key value pairs in form of list of dictionaries. (Input : test_list = [“Gfg”, 3, “is”, 8], key_list = [“name”, “id”]\n",
    "Output : [{‘name’: ‘Gfg’, ‘id’: 3}, {‘name’: ‘is’, ‘id’: 8}])"
   ]
  },
  {
   "cell_type": "code",
   "execution_count": 39,
   "id": "4d4e2d28",
   "metadata": {},
   "outputs": [
    {
     "name": "stdout",
     "output_type": "stream",
     "text": [
      "Please enter the size of Dictionary: 3\n",
      "Please enter the test list: gfg\n",
      "Please enter the test list: 3\n",
      "Please enter the test list: is\n",
      "Please enter the key list: name\n",
      "Please enter the key list: id\n",
      "Please enter the key list: haga\n",
      "gfg  ->  name\n",
      "3  ->  id\n",
      "is  ->  haga\n"
     ]
    }
   ],
   "source": [
    "#___________________________________________________________\n",
    "\n",
    "TEST = []\n",
    "KEY = []\n",
    "\n",
    "size = int(input('Please enter the size of Dictionary: '))\n",
    "\n",
    "for i in range(size):\n",
    "    inp = input('Please enter the test list: ')\n",
    "    TEST.append(inp)\n",
    "for i in range(size):\n",
    "    inp = input('Please enter the key list: ')\n",
    "    KEY.append(inp)\n",
    "\n",
    "dictionary = {}\n",
    "\n",
    "for i in range(size):\n",
    "    dictionary[TEST[i]]=KEY[i]\n",
    "\n",
    "for key,value in dictionary.items():\n",
    "    print(key,' -> ',value)"
   ]
  },
  {
   "cell_type": "markdown",
   "id": "c26b6e9f",
   "metadata": {},
   "source": [
    "**30-write a python program to count unique values inside a list using different ways"
   ]
  },
  {
   "cell_type": "code",
   "execution_count": 44,
   "id": "72132667",
   "metadata": {},
   "outputs": [
    {
     "name": "stdout",
     "output_type": "stream",
     "text": [
      "Please enter the size of list: 7\n",
      "Please enter a value: 1\n",
      "Please enter a value: 2\n",
      "Please enter a value: 1\n",
      "Please enter a value: 2\n",
      "Please enter a value: 3\n",
      "Please enter a value: 4\n",
      "Please enter a value: 5\n",
      "3\n"
     ]
    }
   ],
   "source": [
    "size = int(input('Please enter the size of list: '))\n",
    "\n",
    "lst = []\n",
    "\n",
    "for i in range(size):\n",
    "    inp = input('Please enter a value: ')\n",
    "    lst.append(inp)\n",
    "    \n",
    "count = 0\n",
    "\n",
    "for i in lst:\n",
    "    if lst.count(i) == 1:\n",
    "        count+=1\n",
    "print(count)"
   ]
  },
  {
   "cell_type": "markdown",
   "id": "fed6677c",
   "metadata": {},
   "source": [
    "**31-write a python program Extract all elements with Frequency greater than K (Input : test_list = [4, 6, 4, 3, 3, 4, 3, 4, 3, 8], K = 3 \n",
    "Output : [4, 3] )"
   ]
  },
  {
   "cell_type": "code",
   "execution_count": 6,
   "id": "d81f3f9d",
   "metadata": {},
   "outputs": [
    {
     "name": "stdout",
     "output_type": "stream",
     "text": [
      "Please enter the size of list: 4\n",
      "Please enter a value: 1\n",
      "Please enter a value: 2\n",
      "Please enter a value: 3\n",
      "Please enter a value: 3\n",
      "Enter the frequency: 1\n",
      "['3']\n"
     ]
    }
   ],
   "source": [
    "size = int(input('Please enter the size of list: '))\n",
    "\n",
    "lst = []\n",
    "\n",
    "for i in range(size):\n",
    "    inp = input('Please enter a value: ')\n",
    "    lst.append(inp)\n",
    "    \n",
    "k = int(input('Enter the frequency: '))\n",
    "count=0\n",
    "\n",
    "s = set()\n",
    "\n",
    "for i in lst:\n",
    "    if lst.count(i)>k:\n",
    "        s.add(i)\n",
    "lst_out = list(s)\n",
    "print(lst_out)"
   ]
  },
  {
   "cell_type": "markdown",
   "id": "caca5224",
   "metadata": {},
   "source": [
    "**32-write a python program to find the Strongest Neighbour (Input: 1 2 2 3 4 5\n",
    "Output: 2 2 3 4 5)"
   ]
  },
  {
   "cell_type": "code",
   "execution_count": 11,
   "id": "39fbd9b2",
   "metadata": {},
   "outputs": [
    {
     "name": "stdout",
     "output_type": "stream",
     "text": [
      "Please enter the size of list: 6\n",
      "Please enter a value: 10\n",
      "Please enter a value: 20\n",
      "Please enter a value: 30\n",
      "Please enter a value: 20\n",
      "Please enter a value: 30\n",
      "Please enter a value: 400\n",
      "['20', '30', '30', '30', '400']\n"
     ]
    }
   ],
   "source": [
    "size = int(input('Please enter the size of list: '))\n",
    "\n",
    "lst = []\n",
    "\n",
    "for i in range(size):\n",
    "    inp = input('Please enter a value: ')\n",
    "    lst.append(inp)\n",
    "    \n",
    "lst_max = []\n",
    "\n",
    "for i in range(1,len(lst)):\n",
    "    lst_max.append(max(lst[i],lst[i-1]))\n",
    "\n",
    "print(lst_max)"
   ]
  },
  {
   "cell_type": "markdown",
   "id": "a9fa8baf",
   "metadata": {},
   "source": [
    "**33-write a Python Program to print all Possible Combinations from the three Digits (Input: [1, 2, 3]\n",
    "Output:\n",
    "1 2 3 ##\n",
    "1 3 2 ##\n",
    "2 1 3 ##\n",
    "2 3 1 ##\n",
    "3 1 2 ##\n",
    "3 2 1)"
   ]
  },
  {
   "cell_type": "code",
   "execution_count": 12,
   "id": "8c520a76",
   "metadata": {},
   "outputs": [
    {
     "name": "stdout",
     "output_type": "stream",
     "text": [
      "Please enter a value: 1\n",
      "Please enter a value: 2\n",
      "Please enter a value: 3\n",
      "1 2 3\n",
      "1 3 2\n",
      "2 1 3\n",
      "2 3 1\n",
      "3 1 2\n",
      "3 2 1\n"
     ]
    }
   ],
   "source": [
    "lst = []\n",
    "\n",
    "for i in range(3):\n",
    "    inp = input('Please enter a value: ')\n",
    "    lst.append(inp)\n",
    "    \n",
    "for i in range(3):\n",
    "    for j in range(3):\n",
    "        for k in range(3):\n",
    "            if i!=j and j!=k and k!=i:\n",
    "                print(lst[i],lst[j],lst[k])"
   ]
  },
  {
   "cell_type": "markdown",
   "id": "5288bb89",
   "metadata": {},
   "source": [
    "**34-write a Python program to find all the Combinations in the list with the given condition (Input: test_list = [1,2,3] \n",
    "Output: \n",
    " [1], [1, 2], [1, 2, 3], [1, 3]\n",
    " [2], [2, 3], [3])"
   ]
  },
  {
   "cell_type": "code",
   "execution_count": null,
   "id": "59b89646",
   "metadata": {},
   "outputs": [],
   "source": []
  },
  {
   "cell_type": "markdown",
   "id": "39973705",
   "metadata": {},
   "source": [
    "**35-write a Python program to get all unique combinations of two Lists (List_1 = [\"a\",\"b\"]\n",
    "List_2 = [1,2]\n",
    "Unique_combination = [[('a',1),('b',2)],[('a',2),('b',1)]] )"
   ]
  },
  {
   "cell_type": "code",
   "execution_count": 15,
   "id": "8c4ba22b",
   "metadata": {},
   "outputs": [
    {
     "name": "stdout",
     "output_type": "stream",
     "text": [
      "Please enter the size of list 1: 2\n",
      "Please enter a value: a\n",
      "Please enter a value: b\n",
      "Please enter the size of list 2: 2\n",
      "Please enter a value: 1\n",
      "Please enter a value: 2\n",
      "[('a', '1'), ('a', '2'), ('b', '1'), ('b', '2')]\n"
     ]
    }
   ],
   "source": [
    "size1 = int(input('Please enter the size of list 1: '))\n",
    "lst1 = []\n",
    "for i in range(size1):\n",
    "    inp = input('Please enter a value: ')\n",
    "    lst1.append(inp)\n",
    "    \n",
    "size2 = int(input('Please enter the size of list 2: '))\n",
    "lst2 = []\n",
    "for i in range(size2):\n",
    "    inp = input('Please enter a value: ')\n",
    "    lst2.append(inp)\n",
    "    \n",
    "l = []\n",
    "for i in lst1:\n",
    "    for j in lst2:\n",
    "            l = l + [i,j]\n",
    "            \n",
    "print([(l[i],l[i+1]) for i in range(0,len(l),2)])"
   ]
  },
  {
   "cell_type": "markdown",
   "id": "25199af5",
   "metadata": {},
   "source": [
    "**36-Remove all the occurrences of an element from a list in Python (Input : 1 1 2 3 4 5 1 2 1 \n",
    "\n",
    "**Output : 2 3 4 5 2)"
   ]
  },
  {
   "cell_type": "code",
   "execution_count": 10,
   "id": "6dc4c2ba",
   "metadata": {},
   "outputs": [
    {
     "name": "stdout",
     "output_type": "stream",
     "text": [
      "Please enter the size of list 1: 9\n",
      "Please enter a value: 1\n",
      "Please enter a value: 1\n",
      "Please enter a value: 2\n",
      "Please enter a value: 3\n",
      "Please enter a value: 4\n",
      "Please enter a value: 5\n",
      "Please enter a value: 1\n",
      "Please enter a value: 2\n",
      "Please enter a value: 1\n",
      "['1', '1', '2', '3', '4', '5', '1', '2', '1']\n"
     ]
    }
   ],
   "source": []
  },
  {
   "cell_type": "markdown",
   "id": "bf1a3c93",
   "metadata": {},
   "source": [
    "**37-write a python program to Replace index elements with elements in Other List (The original list 1 is : [‘Gfg’, ‘is’, ‘best’] The original list 2 is : [0, 1, 2, 1, 0, 0, 0, 2, 1, 1, 2, 0] The lists after index elements replacements is : [‘Gfg’, ‘is’, ‘best’, ‘is’, ‘Gfg’, ‘Gfg’, ‘Gfg’, ‘best’, ‘is’, ‘is’, ‘best’, ‘Gfg’])"
   ]
  },
  {
   "cell_type": "code",
   "execution_count": null,
   "id": "fdd66a71",
   "metadata": {},
   "outputs": [],
   "source": []
  },
  {
   "cell_type": "markdown",
   "id": "af0f56e8",
   "metadata": {},
   "source": [
    "**38- write python program to Retain records with N occurrences of K(Input : test_list = [(4, 5, 5, 4), (5, 4, 3)], K = 5, N = 2 \n",
    "Output : [(4, 5, 5, 4)]\n",
    "Input : test_list = [(4, 5, 5, 4), (5, 4, 3)], K = 5, N = 3 \n",
    "Output : [] )"
   ]
  },
  {
   "cell_type": "code",
   "execution_count": null,
   "id": "67b06671",
   "metadata": {},
   "outputs": [],
   "source": []
  },
  {
   "cell_type": "markdown",
   "id": "de76f183",
   "metadata": {},
   "source": [
    "**39-write a Python Program to Sort the list according to the column using lambda\n",
    "array = [[1, 3, 3], [2, 1, 2], [3, 2, 1]]\n",
    "Output :\n",
    "Sorted array specific to column 0, [[1, 3, 3], [2, 1, 2], [3, 2, 1]]\n",
    "Sorted array specific to column 1, [[2, 1, 2], [3, 2, 1], [1, 3, 3]]\n",
    "Sorted array specific to column 2, [[3, 2, 1], [2, 1, 2], [1, 3, 3]]"
   ]
  },
  {
   "cell_type": "code",
   "execution_count": null,
   "id": "dc883308",
   "metadata": {},
   "outputs": [],
   "source": []
  },
  {
   "cell_type": "markdown",
   "id": "d84a7cdd",
   "metadata": {},
   "source": [
    "**40- write a program to Sort Python Dictionaries by Key or Value\n",
    "Input:\n",
    "{'ravi': 10, 'rajnish': 9, 'sanjeev': 15, 'yash': 2, 'suraj': 32}\n",
    "\n",
    "Output: \n",
    "{'rajnish': 9, 'ravi': 10, 'sanjeev': 15, 'suraj': 32, 'yash': 2}"
   ]
  },
  {
   "cell_type": "code",
   "execution_count": null,
   "id": "a96db4a0",
   "metadata": {},
   "outputs": [],
   "source": []
  },
  {
   "cell_type": "markdown",
   "id": "ec63c23a",
   "metadata": {},
   "source": [
    "**41-write python program to Remove keys with Values Greater than K ( Including mixed values )\n",
    "nput : test_dict = {‘Gfg’ : 3, ‘is’ : 7, ‘best’ : 10, ‘for’ : 6, ‘geeks’ : ‘CS’},\n",
    "K = 7 \n",
    "Output : {‘Gfg’ : 3, ‘for’ : 6, ‘geeks’ : ‘CS’}"
   ]
  },
  {
   "cell_type": "code",
   "execution_count": null,
   "id": "e39c3a40",
   "metadata": {},
   "outputs": [],
   "source": []
  },
  {
   "cell_type": "markdown",
   "id": "f143f0fe",
   "metadata": {},
   "source": [
    "**42-Write a Python program to concatenate the following dictionaries to create a new one\n",
    "\n",
    "Sample Dictionary :\n",
    "dic1={1:10, 2:20}\n",
    "dic2={3:30, 4:40}\n",
    "dic3={5:50,6:60}\n",
    "Expected Result : {1: 10, 2: 20, 3: 30, 4: 40, 5: 50, 6: 60}"
   ]
  },
  {
   "cell_type": "code",
   "execution_count": null,
   "id": "74ffdfea",
   "metadata": {},
   "outputs": [],
   "source": []
  },
  {
   "cell_type": "markdown",
   "id": "fb04c93c",
   "metadata": {},
   "source": [
    "**43-Write a Python program to iterate over dictionaries using for loops"
   ]
  },
  {
   "cell_type": "code",
   "execution_count": null,
   "id": "6aebc470",
   "metadata": {},
   "outputs": [],
   "source": []
  },
  {
   "cell_type": "markdown",
   "id": "5f491a9d",
   "metadata": {},
   "source": [
    "**44- Write a Python script to merge two Python dictionaries"
   ]
  },
  {
   "cell_type": "code",
   "execution_count": null,
   "id": "b8a14028",
   "metadata": {},
   "outputs": [],
   "source": []
  },
  {
   "cell_type": "markdown",
   "id": "216fc72d",
   "metadata": {},
   "source": [
    "**45-Write a Python program to get the maximum and minimum values of a dictionary values"
   ]
  },
  {
   "cell_type": "code",
   "execution_count": null,
   "id": "d6883f5f",
   "metadata": {},
   "outputs": [],
   "source": []
  },
  {
   "cell_type": "markdown",
   "id": "b6a53011",
   "metadata": {},
   "source": [
    "**46- Write a Python program to drop empty items from a given dictionary.\n",
    "Original Dictionary:\n",
    "{'c1': 'Red', 'c2': 'Green', 'c3': None}\n",
    "New Dictionary after dropping empty items:\n",
    "{'c1': 'Red', 'c2': 'Green'}"
   ]
  },
  {
   "cell_type": "code",
   "execution_count": null,
   "id": "b5c6fecf",
   "metadata": {},
   "outputs": [],
   "source": []
  },
  {
   "cell_type": "markdown",
   "id": "46d718c7",
   "metadata": {},
   "source": [
    "**47-Write a Python program to create a tuple of numbers and print one item"
   ]
  },
  {
   "cell_type": "code",
   "execution_count": null,
   "id": "13216ff5",
   "metadata": {},
   "outputs": [],
   "source": []
  },
  {
   "cell_type": "markdown",
   "id": "2be5b56b",
   "metadata": {},
   "source": [
    "**48-Write a Python program to unpack a tuple into several variables"
   ]
  },
  {
   "cell_type": "code",
   "execution_count": null,
   "id": "595f44be",
   "metadata": {},
   "outputs": [],
   "source": []
  },
  {
   "cell_type": "markdown",
   "id": "392388a7",
   "metadata": {},
   "source": [
    "**49-Write a Python program to add an item to a tuple"
   ]
  },
  {
   "cell_type": "code",
   "execution_count": null,
   "id": "54cc092e",
   "metadata": {},
   "outputs": [],
   "source": []
  },
  {
   "cell_type": "markdown",
   "id": "3e8fd124",
   "metadata": {},
   "source": [
    "**50-Write a Python program to convert a tuple to a string"
   ]
  },
  {
   "cell_type": "code",
   "execution_count": null,
   "id": "92a71ddc",
   "metadata": {},
   "outputs": [],
   "source": []
  },
  {
   "cell_type": "markdown",
   "id": "f4f64ef4",
   "metadata": {},
   "source": [
    "**51-Write a Python program to convert a list to a tuple"
   ]
  },
  {
   "cell_type": "code",
   "execution_count": null,
   "id": "210d56d3",
   "metadata": {},
   "outputs": [],
   "source": []
  },
  {
   "cell_type": "markdown",
   "id": "b1e00ef7",
   "metadata": {},
   "source": [
    "**52-Write a Python program to reverse a tuple"
   ]
  },
  {
   "cell_type": "code",
   "execution_count": null,
   "id": "f45bfdc7",
   "metadata": {},
   "outputs": [],
   "source": []
  },
  {
   "cell_type": "markdown",
   "id": "3cd347d1",
   "metadata": {},
   "source": [
    "**53-Write a Python program to replace the last value of tuples in a list.\n",
    "Sample list: [(10, 20, 40), (40, 50, 60), (70, 80, 90)]\n",
    "Expected Output: [(10, 20, 100), (40, 50, 100), (70, 80, 100)]"
   ]
  },
  {
   "cell_type": "code",
   "execution_count": null,
   "id": "3c4a2a4c",
   "metadata": {},
   "outputs": [],
   "source": []
  },
  {
   "cell_type": "markdown",
   "id": "76bb7b39",
   "metadata": {},
   "source": [
    "**54-Write a Python program to convert a given string list to a tuple\n",
    "Original string: python 3.0\n",
    "<class 'str'>\n",
    "Convert the said string to a tuple:\n",
    "('p', 'y', 't', 'h', 'o', 'n', '3', '.', '0')"
   ]
  },
  {
   "cell_type": "code",
   "execution_count": null,
   "id": "51951937",
   "metadata": {},
   "outputs": [],
   "source": []
  },
  {
   "cell_type": "markdown",
   "id": "5a1d5d97",
   "metadata": {},
   "source": [
    "**55-Write a Python program to calculate the average value of the numbers in a given tuple of tuples"
   ]
  },
  {
   "cell_type": "code",
   "execution_count": null,
   "id": "834e7992",
   "metadata": {},
   "outputs": [],
   "source": []
  },
  {
   "cell_type": "markdown",
   "id": "51edab9c",
   "metadata": {},
   "source": [
    "**56-Write a Python program to add member(s) to a set."
   ]
  },
  {
   "cell_type": "code",
   "execution_count": null,
   "id": "2b65df79",
   "metadata": {},
   "outputs": [],
   "source": []
  },
  {
   "cell_type": "markdown",
   "id": "965590cc",
   "metadata": {},
   "source": [
    "**57-Write a Python program to remove an item from a set if it is present in the set."
   ]
  },
  {
   "cell_type": "code",
   "execution_count": null,
   "id": "866bab28",
   "metadata": {},
   "outputs": [],
   "source": []
  },
  {
   "cell_type": "markdown",
   "id": "2b7cfed1",
   "metadata": {},
   "source": [
    "**58-Write a Python program to create an intersection,union,difference and symmetric difference of sets"
   ]
  },
  {
   "cell_type": "code",
   "execution_count": null,
   "id": "7f94b7fe",
   "metadata": {},
   "outputs": [],
   "source": []
  },
  {
   "cell_type": "markdown",
   "id": "b94931e2",
   "metadata": {},
   "source": [
    "**59-Write a Python program to find the maximum and minimum values in a set"
   ]
  },
  {
   "cell_type": "code",
   "execution_count": null,
   "id": "203f9600",
   "metadata": {},
   "outputs": [],
   "source": []
  },
  {
   "cell_type": "markdown",
   "id": "255fd554",
   "metadata": {},
   "source": [
    "**60- Write a Python program that finds all pairs of elements in a list whose sum is equal to a given value."
   ]
  },
  {
   "cell_type": "code",
   "execution_count": null,
   "id": "c2d94e1f",
   "metadata": {},
   "outputs": [],
   "source": []
  }
 ],
 "metadata": {
  "kernelspec": {
   "display_name": "Python 3 (ipykernel)",
   "language": "python",
   "name": "python3"
  },
  "language_info": {
   "codemirror_mode": {
    "name": "ipython",
    "version": 3
   },
   "file_extension": ".py",
   "mimetype": "text/x-python",
   "name": "python",
   "nbconvert_exporter": "python",
   "pygments_lexer": "ipython3",
   "version": "3.11.4"
  }
 },
 "nbformat": 4,
 "nbformat_minor": 5
}
